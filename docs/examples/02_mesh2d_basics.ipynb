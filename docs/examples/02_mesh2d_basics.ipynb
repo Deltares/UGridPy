{
 "cells": [
  {
   "cell_type": "markdown",
   "metadata": {},
   "source": [
    "# UGrid Mesh2D basics\n",
    "\n",
    "This is the basic introduction for using the `ugridpy` library.\n",
    "\n",
    "`ugridpy` can be used for reading and writing mesh2D. \n",
    "\n",
    "At the very beginning, the necessary libraries have to be imported."
   ]
  },
  {
   "cell_type": "code",
   "execution_count": 1,
   "metadata": {},
   "outputs": [],
   "source": [
    "from ugrid import UGrid, UGridMesh2D"
   ]
  },
  {
   "cell_type": "markdown",
   "metadata": {},
   "source": [
    "Other imports"
   ]
  },
  {
   "cell_type": "code",
   "execution_count": 2,
   "metadata": {},
   "outputs": [],
   "source": [
    "import numpy as np"
   ]
  },
  {
   "cell_type": "markdown",
   "metadata": {},
   "source": [
    "## Mesh2D reading"
   ]
  },
  {
   "cell_type": "code",
   "execution_count": 3,
   "metadata": {},
   "outputs": [],
   "source": [
    "with UGrid(\"./data_examples/AllUGridEntities.nc\", \"r\") as ug:\n",
    "    # 1. Count the number of mesh2d topologies\n",
    "    num_mesh2d_topologies = ug.mesh2d_get_num_topologies()\n",
    "    # 2. Get the data of the last mesh2d in the list\n",
    "    mesh2d = ug.mesh2d_get(num_mesh2d_topologies - 1)"
   ]
  },
  {
   "cell_type": "markdown",
   "metadata": {},
   "source": [
    "### Print some data"
   ]
  },
  {
   "cell_type": "code",
   "execution_count": 4,
   "metadata": {},
   "outputs": [
    {
     "name": "stdout",
     "output_type": "stream",
     "text": [
      "Mesh 2D name: mesh2d\n",
      "Mesh 2D first 10 elements of node_x: [480.21459667 451.69658827 425.13756519 401.45064545 380.26184868\n",
      " 361.45101045 343.94589513 261.25486588 242.90975278 222.99468601]\n",
      "Mesh 2D first 10 elements of node_y: [82.29153983 73.89186051 66.06917971 59.09244673 52.87717774 47.40762474\n",
      " 42.38109201 19.25716325 14.35937578  9.08769854]\n",
      "Mesh 2D edge_node: [ 20  33  46 ... 451 451 452]\n",
      "Mesh 2D face_node: [ 79 132  80 ... 451 452 439]\n"
     ]
    }
   ],
   "source": [
    "print(f\"Mesh 2D name: {mesh2d.name}\")\n",
    "print(f\"Mesh 2D first 10 elements of node_x: {mesh2d.node_x[:10]}\")\n",
    "print(f\"Mesh 2D first 10 elements of node_y: {mesh2d.node_y[:10]}\")\n",
    "print(f\"Mesh 2D edge_node: {mesh2d.edge_node}\")\n",
    "print(f\"Mesh 2D face_node: {mesh2d.face_node}\")"
   ]
  },
  {
   "cell_type": "markdown",
   "metadata": {},
   "source": [
    "## Mesh2D writing"
   ]
  },
  {
   "cell_type": "markdown",
   "metadata": {},
   "source": [
    "### Define Mesh2D arrays"
   ]
  },
  {
   "cell_type": "code",
   "execution_count": 5,
   "metadata": {},
   "outputs": [],
   "source": [
    "name = \"mesh2d\"\n",
    "node_x = np.array([0, 1, 0, 1, 0, 1, 0, 1, 2, 2, 2, 2, 3, 3, 3, 3], dtype=np.double)\n",
    "node_y = np.array([0, 0, 1, 1, 2, 2, 3, 3, 0, 1, 2, 3, 0, 1, 2, 3], dtype=np.double)\n",
    "edge_node = np.array(\n",
    "    [\n",
    "        1,\n",
    "        2,\n",
    "        3,\n",
    "        4,\n",
    "        5,\n",
    "        6,\n",
    "        7,\n",
    "        8,\n",
    "        2,\n",
    "        9,\n",
    "        4,\n",
    "        10,\n",
    "        6,\n",
    "        11,\n",
    "        8,\n",
    "        12,\n",
    "        9,\n",
    "        13,\n",
    "        10,\n",
    "        14,\n",
    "        11,\n",
    "        15,\n",
    "        12,\n",
    "        16,\n",
    "        1,\n",
    "        3,\n",
    "        3,\n",
    "        5,\n",
    "        5,\n",
    "        7,\n",
    "        2,\n",
    "        4,\n",
    "        4,\n",
    "        6,\n",
    "        6,\n",
    "        8,\n",
    "        9,\n",
    "        10,\n",
    "        10,\n",
    "        11,\n",
    "        11,\n",
    "        12,\n",
    "        13,\n",
    "        14,\n",
    "        14,\n",
    "        15,\n",
    "        15,\n",
    "        16,\n",
    "    ],\n",
    "    dtype=np.int,\n",
    ")\n",
    "\n",
    "face_x = np.array([0.5, 0.5, 0.5, 1.5, 1.5, 1.5, 2.5, 2.5, 2.5], dtype=np.double)\n",
    "face_y = np.array([0.5, 1.5, 2.5, 0.5, 1.5, 2.5, 0.5, 1.5, 2.5], dtype=np.double)\n",
    "face_node = np.array(\n",
    "    [\n",
    "        1,\n",
    "        2,\n",
    "        4,\n",
    "        3,\n",
    "        3,\n",
    "        4,\n",
    "        6,\n",
    "        5,\n",
    "        5,\n",
    "        6,\n",
    "        8,\n",
    "        7,\n",
    "        2,\n",
    "        9,\n",
    "        10,\n",
    "        4,\n",
    "        4,\n",
    "        10,\n",
    "        11,\n",
    "        6,\n",
    "        6,\n",
    "        11,\n",
    "        12,\n",
    "        8,\n",
    "        9,\n",
    "        13,\n",
    "        14,\n",
    "        10,\n",
    "        10,\n",
    "        14,\n",
    "        15,\n",
    "        11,\n",
    "        11,\n",
    "        15,\n",
    "        16,\n",
    "        12,\n",
    "    ],\n",
    "    dtype=np.int,\n",
    ")"
   ]
  },
  {
   "cell_type": "markdown",
   "metadata": {},
   "source": [
    "### Instantiate UGridMesh2D class"
   ]
  },
  {
   "cell_type": "code",
   "execution_count": 6,
   "metadata": {},
   "outputs": [],
   "source": [
    "ugrid_mesh2d = UGridMesh2D(\n",
    "    name=name,\n",
    "    node_x=node_x,\n",
    "    node_y=node_y,\n",
    "    edge_node=edge_node,\n",
    "    face_x=face_x,\n",
    "    face_y=face_y,\n",
    "    face_node=face_node,\n",
    ")"
   ]
  },
  {
   "cell_type": "markdown",
   "metadata": {},
   "source": [
    "### Write ugrid_mesh2d instance to file"
   ]
  },
  {
   "cell_type": "code",
   "execution_count": 7,
   "metadata": {},
   "outputs": [],
   "source": [
    "with UGrid(\"Mesh2DWrite.nc\", \"w+\") as ug:\n",
    "    topology_id = ug.mesh2d_define(ugrid_mesh2d)\n",
    "    ug.mesh2d_put(topology_id, ugrid_mesh2d)"
   ]
  },
  {
   "cell_type": "code",
   "execution_count": null,
   "metadata": {},
   "outputs": [],
   "source": []
  }
 ],
 "metadata": {
  "kernelspec": {
   "display_name": "Python 3",
   "language": "python",
   "name": "python3"
  },
  "language_info": {
   "codemirror_mode": {
    "name": "ipython",
    "version": 3
   },
   "file_extension": ".py",
   "mimetype": "text/x-python",
   "name": "python",
   "nbconvert_exporter": "python",
   "pygments_lexer": "ipython3",
   "version": "3.8.6"
  }
 },
 "nbformat": 4,
 "nbformat_minor": 5
}
