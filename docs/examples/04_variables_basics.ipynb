{
 "cells": [
  {
   "cell_type": "markdown",
   "metadata": {},
   "source": [
    "# UGrid variable basics\n",
    "\n",
    "This is the basic introduction for using the `ugridpy` library.\n",
    "\n",
    "`ugridpy` can be used for reading variable information from UGrid files. \n",
    "\n",
    "At the very beginning, the necessary libraries have to be imported."
   ]
  },
  {
   "cell_type": "code",
   "execution_count": 1,
   "metadata": {},
   "outputs": [
    {
     "data": {
      "text/plain": [
       "'0.8.0'"
      ]
     },
     "execution_count": 1,
     "metadata": {},
     "output_type": "execute_result"
    }
   ],
   "source": [
    "from ugrid import UGrid, UGridMesh1D\n",
    "from ugrid.version import __version__\n",
    "__version__"
   ]
  },
  {
   "cell_type": "markdown",
   "metadata": {},
   "source": [
    "Other imports"
   ]
  },
  {
   "cell_type": "code",
   "execution_count": 2,
   "metadata": {},
   "outputs": [],
   "source": [
    "import numpy as np"
   ]
  },
  {
   "cell_type": "markdown",
   "metadata": {},
   "source": [
    "## Reading topology's attributes names and values"
   ]
  },
  {
   "cell_type": "code",
   "execution_count": 3,
   "metadata": {},
   "outputs": [],
   "source": [
    "with UGrid(\"./data_examples/OneMesh2D.nc\", \"r\") as ug:\n",
    "    # 1. Get the mesh2d name. This is also the name of a variable \n",
    "    variable_name = ug.mesh2d_get(0).name\n",
    "    # 2. Get the mesh2D attribute names\n",
    "    attribute_names = ug.variable_get_attributes_names(variable_name)\n",
    "    # 3. Get the mesh2D attribute values\n",
    "    attribute_values = ug.variable_get_attributes_values(variable_name)"
   ]
  },
  {
   "cell_type": "markdown",
   "metadata": {},
   "source": [
    "### Create a dictionary of topology attributes names and values. This dictionary can be used for reading the file content with other libraries (xarray)"
   ]
  },
  {
   "cell_type": "code",
   "execution_count": 4,
   "metadata": {},
   "outputs": [
    {
     "name": "stdout",
     "output_type": "stream",
     "text": [
      "{'cf_role': 'mesh_topology', 'edge_coordinates': 'mesh2d_edge_x mesh2d_edge_y', 'edge_dimension': 'mesh2d_nEdges', 'edge_node_connectivity': 'mesh2d_edge_nodes', 'face_coordinates': 'mesh2d_face_x mesh2d_face_y', 'face_dimension': 'mesh2d_nFaces', 'face_node_connectivity': 'mesh2d_face_nodes', 'long_name': 'Topology data of 2D mesh', 'max_face_nodes_dimension': 'mesh2d_nMax_face_nodes', 'node_coordinates': 'mesh2d_node_x mesh2d_node_y', 'node_dimension': 'mesh2d_nNodes', 'topology_dimension': '2'}\n"
     ]
    }
   ],
   "source": [
    "variable_attributes = {name:value for (name,value) in zip(attribute_names,attribute_values) }\n",
    "print(variable_attributes)"
   ]
  },
  {
   "cell_type": "markdown",
   "metadata": {},
   "source": [
    "## Reading another variable attribute's names and values"
   ]
  },
  {
   "cell_type": "markdown",
   "metadata": {},
   "source": [
    "### In this case the attribute flag_values contains multiple values"
   ]
  },
  {
   "cell_type": "code",
   "execution_count": 5,
   "metadata": {},
   "outputs": [],
   "source": [
    "with UGrid(\"./data_examples/OneMesh2D.nc\", \"r\") as ug:\n",
    "    # 1. Get the mesh2d name. This is also the name of a variable \n",
    "    variable_name = \"mesh2d_edge_type\"\n",
    "    # 2. Get the mesh2D attribute names\n",
    "    attribute_names = ug.variable_get_attributes_names(variable_name)\n",
    "    # 3. Get the mesh2D attribute values\n",
    "    attribute_values = ug.variable_get_attributes_values(variable_name)"
   ]
  },
  {
   "cell_type": "code",
   "execution_count": 6,
   "metadata": {},
   "outputs": [
    {
     "name": "stdout",
     "output_type": "stream",
     "text": [
      "{'_FillValue': '-999', 'coordinates': 'mesh2d_edge_x mesh2d_edge_y', 'flag_meanings': 'internal_closed internal boundary boundary_closed', 'flag_values': '0 1 2 3', 'location': 'edge', 'long_name': 'edge type (relation between edge and flow geometry)', 'mesh': 'mesh2d'}\n"
     ]
    }
   ],
   "source": [
    "variable_attributes = {name:value for (name,value) in zip(attribute_names,attribute_values) }\n",
    "print(variable_attributes)"
   ]
  },
  {
   "cell_type": "markdown",
   "metadata": {},
   "source": [
    "## Reading data variable from a NetCDF file"
   ]
  },
  {
   "cell_type": "code",
   "execution_count": 7,
   "metadata": {},
   "outputs": [],
   "source": [
    "with UGrid(\"./data_examples/ADH_SanDiego.nc\", \"r\") as ug:\n",
    "    depth = ug.variable_get_data_double(\"depth\")\n",
    "    node_x = ug.variable_get_data_double(\"node_x\")\n",
    "    node_y = ug.variable_get_data_double(\"node_y\")"
   ]
  },
  {
   "cell_type": "code",
   "execution_count": 8,
   "metadata": {},
   "outputs": [
    {
     "data": {
      "image/png": "[encoded data removed]",
      "text/plain": [
       "<Figure size 432x288 with 1 Axes>"
      ]
     },
     "metadata": {
      "needs_background": "light"
     },
     "output_type": "display_data"
    }
   ],
   "source": [
    "import numpy as np\n",
    "import matplotlib.pyplot as plt\n",
    "  \n",
    "# Plotting scalar field with tricontour\n",
    "plt.tricontourf(node_x, node_y, depth[:9140])\n",
    "plt.title('Scalar Field')\n",
    "  \n",
    "# Show plot with gird\n",
    "plt.grid()"
   ]
  },
  {
   "cell_type": "code",
   "execution_count": null,
   "metadata": {},
   "outputs": [],
   "source": []
  }
 ],
 "metadata": {
  "kernelspec": {
   "display_name": "Python 3",
   "language": "python",
   "name": "python3"
  },
  "language_info": {
   "codemirror_mode": {
    "name": "ipython",
    "version": 3
   },
   "file_extension": ".py",
   "mimetype": "text/x-python",
   "name": "python",
   "nbconvert_exporter": "python",
   "pygments_lexer": "ipython3",
   "version": "3.8.6"
  }
 },
 "nbformat": 4,
 "nbformat_minor": 4
}
