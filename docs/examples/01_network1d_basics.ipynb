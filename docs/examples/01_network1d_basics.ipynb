{
 "cells": [
  {
   "cell_type": "markdown",
   "id": "9082445c-5e6d-4ece-8e89-8ff54840377b",
   "metadata": {},
   "source": [
    "# Mesh2d Basics\n",
    "\n",
    "This is the basic introduction for using the `meshkernel` library.\n",
    "\n",
    "`meshkernel` can be used for creating and manipulating various kinds of meshes.\n",
    "\n",
    "The most common case deals with unstructured, two-dimensional meshes which is why this tutorial focuses on these."
   ]
  },
  {
   "cell_type": "markdown",
   "id": "65d74297-d56d-4c1c-93a6-ad7ed9cfd805",
   "metadata": {},
   "source": [
    "At the very beginning, the necessary libraries have to be imported."
   ]
  },
  {
   "cell_type": "code",
   "execution_count": 1,
   "id": "e77bf96a-0d6f-44c0-8d9a-ad5d12cc3d91",
   "metadata": {},
   "outputs": [],
   "source": [
    "import matplotlib.pyplot as plt\n",
    "import numpy as np\n",
    "\n",
    "from meshkernel import Mesh2dFactory, MeshKernel"
   ]
  },
  {
   "cell_type": "markdown",
   "id": "9f264b6c-360f-481a-81f6-bd273df5c928",
   "metadata": {},
   "source": [
    "`meshkernel` provides a set of convenience methods for creating common meshes.\n",
    "\n",
    "We use the `create_rectilinear_mesh` method to create simple meshes.\n",
    "You can look at the documentation in order to find all its parameters."
   ]
  },
  {
   "cell_type": "code",
   "execution_count": 2,
   "id": "db72d89a-ccad-4a6f-937b-ded7e9051182",
   "metadata": {},
   "outputs": [],
   "source": [
    "mesh2d_input = Mesh2dFactory.create_rectilinear_mesh(2, 3)"
   ]
  },
  {
   "cell_type": "markdown",
   "id": "a88b605b-90c3-4e68-bb70-3a2acb3bcfcc",
   "metadata": {},
   "source": [
    "`Mesh2dFactory`'s methods always return a `Mesh2D` instance.\n",
    "`Mesh2D` has three mandatory attributes, which are enough to fully describe any unstructured mesh.\n",
    "\n",
    "The first two are `node_x` and `node_y`.\n",
    "They are one-dimensional `double` arrays, which describe the position of the nodes as can be seen below."
   ]
  },
  {
   "cell_type": "code",
   "execution_count": 3,
   "id": "ff85133a-c6a4-47a1-802c-a901ca2e6a1e",
   "metadata": {},
   "outputs": [
    {
     "data": {
      "image/png": "[encoded data removed]",
      "text/plain": [
       "<Figure size 432x288 with 1 Axes>"
      ]
     },
     "metadata": {
      "needs_background": "light"
     },
     "output_type": "display_data"
    }
   ],
   "source": [
    "fig, ax = plt.subplots()\n",
    "\n",
    "# Plot white points only for scaling the plot\n",
    "ax.plot(mesh2d_input.node_x, mesh2d_input.node_y, \"ow\")\n",
    "\n",
    "# Numbering the nodes\n",
    "for i in range(mesh2d_input.node_x.size):\n",
    "    ax.annotate(\n",
    "        int(i),\n",
    "        xy=(mesh2d_input.node_x[i], mesh2d_input.node_y[i]),\n",
    "        ha=\"center\",\n",
    "        va=\"center\",\n",
    "        fontsize=12,\n",
    "        color=\"blue\",\n",
    "    )"
   ]
  },
  {
   "cell_type": "markdown",
   "id": "aaa55676-11d4-4092-81e4-34bfb2c87461",
   "metadata": {},
   "source": [
    "The third mandatory attribute is `edge_nodes`.\n",
    "It describes the indices of the nodes that make up the edges.\n",
    "\n",
    "Two indices describe one edge.\n",
    "So in our case the indices 0-4, 1-5, 2-6, ... each describe one edge."
   ]
  },
  {
   "cell_type": "code",
   "execution_count": 4,
   "id": "75dd85c3-b04c-439a-b588-faef1c72ebfc",
   "metadata": {},
   "outputs": [
    {
     "data": {
      "text/plain": [
       "array([ 0,  4,  1,  5,  2,  6,  3,  7,  4,  8,  5,  9,  6, 10,  7, 11,  1,\n",
       "        0,  2,  1,  3,  2,  5,  4,  6,  5,  7,  6,  9,  8, 10,  9, 11, 10])"
      ]
     },
     "execution_count": 4,
     "metadata": {},
     "output_type": "execute_result"
    }
   ],
   "source": [
    "mesh2d_input.edge_nodes"
   ]
  },
  {
   "cell_type": "markdown",
   "id": "70aa54bc-b161-41a4-ba1f-aee7bd9b5f79",
   "metadata": {},
   "source": [
    "With all three parameters together we can plot the mesh."
   ]
  },
  {
   "cell_type": "code",
   "execution_count": 5,
   "id": "ed9aa89d-20f2-4d06-8967-86ef68ea6dc7",
   "metadata": {},
   "outputs": [
    {
     "data": {
      "image/png": "[encoded data removed]",
      "text/plain": [
       "<Figure size 432x288 with 1 Axes>"
      ]
     },
     "metadata": {
      "needs_background": "light"
     },
     "output_type": "display_data"
    }
   ],
   "source": [
    "fig, ax = plt.subplots()\n",
    "mesh2d_input.plot_edges(ax, color=\"blue\")"
   ]
  },
  {
   "cell_type": "markdown",
   "id": "45430cd0-5a08-4801-81b0-6b710f10bbe5",
   "metadata": {},
   "source": [
    "In order to interact with the `meshkernel` library, we create a new instance of the `MeshKernel` class.\n",
    "\n",
    "The `is_geographic` parameter of its constructor describes whether the mesh is cartesian (`False`) or spherical (`True`). "
   ]
  },
  {
   "cell_type": "code",
   "execution_count": 6,
   "id": "9febffa3-8b0f-4dbe-b36e-a876ffcca868",
   "metadata": {},
   "outputs": [],
   "source": [
    "mk = MeshKernel(is_geographic=False)"
   ]
  },
  {
   "cell_type": "markdown",
   "id": "bcd42088-43c5-43f7-bd40-1defb775a10e",
   "metadata": {},
   "source": [
    "Each instance holds it own state.\n",
    "This state can be accessed with the corresponding getter and setter methods."
   ]
  },
  {
   "cell_type": "code",
   "execution_count": 7,
   "id": "1009f8a7-d45c-4ac5-bf61-7bf666306b93",
   "metadata": {},
   "outputs": [],
   "source": [
    "mk.mesh2d_set(mesh2d_input)"
   ]
  },
  {
   "cell_type": "code",
   "execution_count": 8,
   "id": "7019ed10-abf5-4ca3-851b-1289cdde890d",
   "metadata": {},
   "outputs": [],
   "source": [
    "mesh2d_output_0 = mk.mesh2d_get()"
   ]
  },
  {
   "cell_type": "markdown",
   "id": "c0f989c6-482f-42ce-aebc-d9282cb0997b",
   "metadata": {},
   "source": [
    "We have now set mesh2d and immediately got it again, without asking `meshkernel` to execute any operations in between.\n",
    "\n",
    "After we set the mesh2d, meshkernel calculated the face data and edge coordinates."
   ]
  },
  {
   "cell_type": "code",
   "execution_count": 9,
   "id": "b285b0eb-10db-4781-b33d-5c3f55370f31",
   "metadata": {},
   "outputs": [
    {
     "data": {
      "image/png": "[encoded data removed]",
      "text/plain": [
       "<Figure size 432x288 with 1 Axes>"
      ]
     },
     "metadata": {
      "needs_background": "light"
     },
     "output_type": "display_data"
    }
   ],
   "source": [
    "fig, ax = plt.subplots()\n",
    "mesh2d_output_0.plot_faces(ax)\n",
    "\n",
    "# Draw face index at the face's center\n",
    "for face_index, (face_x, face_y) in enumerate(\n",
    "    zip(mesh2d_output_0.face_x, mesh2d_output_0.face_y)\n",
    "):\n",
    "    ax.text(face_x, face_y, face_index, ha=\"center\", va=\"center\", fontsize=22)"
   ]
  },
  {
   "cell_type": "markdown",
   "id": "53eda8ab-bda2-4b1f-8400-e749037c8164",
   "metadata": {},
   "source": [
    "`meshkernel` also searches for the middle point of edges and adds them as parameters to the `Mesh2D` class."
   ]
  },
  {
   "cell_type": "code",
   "execution_count": 10,
   "id": "f9194bcd-858f-4879-9eb1-e98d2b405764",
   "metadata": {},
   "outputs": [
    {
     "data": {
      "image/png": "[encoded data removed]",
      "text/plain": [
       "<Figure size 432x288 with 1 Axes>"
      ]
     },
     "metadata": {
      "needs_background": "light"
     },
     "output_type": "display_data"
    }
   ],
   "source": [
    "fig, ax = plt.subplots()\n",
    "ax.plot(mesh2d_output_0.edge_x, mesh2d_output_0.edge_y, \".\");"
   ]
  },
  {
   "cell_type": "markdown",
   "id": "cee66f85-f372-4020-ae43-1dd767de60a5",
   "metadata": {},
   "source": [
    "Until now everything *looked* structured, so let us add a few nodes to change that."
   ]
  },
  {
   "cell_type": "code",
   "execution_count": 11,
   "id": "c26d5ef7-04d2-4291-b847-f468427e8f97",
   "metadata": {},
   "outputs": [],
   "source": [
    "node_index_0 = mk.mesh2d_insert_node(4.0, 1.5)\n",
    "node_index_1 = mk.mesh2d_insert_node(4.0, 2.5)"
   ]
  },
  {
   "cell_type": "markdown",
   "id": "9ce3361c-a3d3-4fcf-bc43-145883a9d337",
   "metadata": {},
   "source": [
    "We also have to connect our nodes, otherwise `meshkernel` will garbage collect them."
   ]
  },
  {
   "cell_type": "code",
   "execution_count": 12,
   "id": "9a7ba090-5af7-4917-8748-84675aaa7d62",
   "metadata": {},
   "outputs": [],
   "source": [
    "edge_index_0 = mk.mesh2d_insert_edge(7, node_index_0)\n",
    "edge_index_1 = mk.mesh2d_insert_edge(node_index_0, node_index_1)\n",
    "edge_index_3 = mk.mesh2d_insert_edge(node_index_1, 11)"
   ]
  },
  {
   "cell_type": "markdown",
   "id": "c74a5b90-a988-44c7-8e7b-1019960470a4",
   "metadata": {},
   "source": [
    "Let us get the new state."
   ]
  },
  {
   "cell_type": "code",
   "execution_count": 13,
   "id": "dd6ffb75-8cc7-444a-98a3-a88b6e48ac2e",
   "metadata": {},
   "outputs": [],
   "source": [
    "mesh2d_output_1 = mk.mesh2d_get()"
   ]
  },
  {
   "cell_type": "markdown",
   "id": "49f9ee5a-cdab-4096-8b6f-409065eb9284",
   "metadata": {},
   "source": [
    "If we plot the output, we can also see that `meshkernel` immediately found a new face."
   ]
  },
  {
   "cell_type": "code",
   "execution_count": 14,
   "id": "e7598d5e-a4e3-4d86-8d65-74d714e50e17",
   "metadata": {},
   "outputs": [
    {
     "data": {
      "image/png": "[encoded data removed]",
      "text/plain": [
       "<Figure size 432x288 with 1 Axes>"
      ]
     },
     "metadata": {
      "needs_background": "light"
     },
     "output_type": "display_data"
    }
   ],
   "source": [
    "fig, ax = plt.subplots()\n",
    "mesh2d_output_1.plot_faces(ax)\n",
    "\n",
    "# Draw face index at the face's center\n",
    "for face_index, (face_x, face_y) in enumerate(\n",
    "    zip(mesh2d_output_1.face_x, mesh2d_output_1.face_y)\n",
    "):\n",
    "    ax.text(face_x, face_y, face_index, ha=\"center\", va=\"center\", fontsize=22)"
   ]
  },
  {
   "cell_type": "markdown",
   "id": "8d878616-5e5c-44f0-aeb8-c3d54d660805",
   "metadata": {},
   "source": [
    "We can also delete nodes."
   ]
  },
  {
   "cell_type": "code",
   "execution_count": 15,
   "id": "fa3f2912-9022-4a69-b0fa-1b469036bd60",
   "metadata": {},
   "outputs": [],
   "source": [
    "mk.mesh2d_delete_node(node_index_1)\n",
    "mesh2d_output_2 = mk.mesh2d_get()"
   ]
  },
  {
   "cell_type": "markdown",
   "id": "f6c9248e-cb33-45da-8a8d-02f5b18426f2",
   "metadata": {},
   "source": [
    "We are back to six faces, but one hanging edge remains."
   ]
  },
  {
   "cell_type": "code",
   "execution_count": 16,
   "id": "014842ba-1e5b-422f-8c8a-fc90805fd8f0",
   "metadata": {},
   "outputs": [
    {
     "data": {
      "image/png": "[encoded data removed]",
      "text/plain": [
       "<Figure size 432x288 with 1 Axes>"
      ]
     },
     "metadata": {
      "needs_background": "light"
     },
     "output_type": "display_data"
    }
   ],
   "source": [
    "fig, ax = plt.subplots()\n",
    "mesh2d_output_2.plot_edges(ax, color=\"blue\")"
   ]
  },
  {
   "cell_type": "markdown",
   "id": "bcdf0c60-b710-4dc8-a2d7-6a5b8e8a3c49",
   "metadata": {},
   "source": [
    "Quite often, hanging edges are unwanted.\n",
    "That is why `meshkernel` provides methods to deal with them.\n",
    "For once we can it can count hanging edges."
   ]
  },
  {
   "cell_type": "code",
   "execution_count": 17,
   "id": "71121309-e55e-482b-a526-e1de2054b4df",
   "metadata": {},
   "outputs": [],
   "source": [
    "hanging_edges = mk.mesh2d_get_hanging_edges()\n",
    "assert hanging_edges.size == 1"
   ]
  },
  {
   "cell_type": "markdown",
   "id": "2f2a037d-17d1-4894-84ca-1fa987c815bf",
   "metadata": {},
   "source": [
    "`meshkernel` can also find and delete them."
   ]
  },
  {
   "cell_type": "code",
   "execution_count": 18,
   "id": "a84edf15-b03b-4652-81e8-4a2e47c1ab80",
   "metadata": {},
   "outputs": [],
   "source": [
    "mk.mesh2d_delete_hanging_edges()\n",
    "mesh2d_output_3 = mk.mesh2d_get()"
   ]
  },
  {
   "cell_type": "markdown",
   "id": "c2cc68ac-34bc-4f18-be34-dffe2520659a",
   "metadata": {},
   "source": [
    "After we have deleted the hanging edges, we are back at the original state."
   ]
  },
  {
   "cell_type": "code",
   "execution_count": 19,
   "id": "5e7fd33e-815b-404d-ba12-141bb0fdc623",
   "metadata": {},
   "outputs": [
    {
     "data": {
      "image/png": "[encoded data removed]",
      "text/plain": [
       "<Figure size 432x288 with 1 Axes>"
      ]
     },
     "metadata": {
      "needs_background": "light"
     },
     "output_type": "display_data"
    }
   ],
   "source": [
    "fig, ax = plt.subplots()\n",
    "mesh2d_output_3.plot_edges(ax, color=\"blue\")"
   ]
  }
 ],
 "metadata": {
  "kernelspec": {
   "display_name": "Python 3",
   "language": "python",
   "name": "python3"
  },
  "language_info": {
   "codemirror_mode": {
    "name": "ipython",
    "version": 3
   },
   "file_extension": ".py",
   "mimetype": "text/x-python",
   "name": "python",
   "nbconvert_exporter": "python",
   "pygments_lexer": "ipython3",
   "version": "3.9.2"
  }
 },
 "nbformat": 4,
 "nbformat_minor": 5
}
