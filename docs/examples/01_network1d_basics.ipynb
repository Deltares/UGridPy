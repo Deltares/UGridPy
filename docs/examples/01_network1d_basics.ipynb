{
 "cells": [
  {
   "cell_type": "markdown",
   "metadata": {},
   "source": [
    "# UGrid Network1d basics\n",
    "\n",
    "This is the basic introduction for using the `ugridpy` library.\n",
    "\n",
    "`ugridpy` can be used for reading and writing network1d. \n",
    "\n",
    "At the very beginning, the necessary libraries have to be imported."
   ]
  },
  {
   "cell_type": "code",
   "execution_count": 5,
   "metadata": {},
   "outputs": [
    {
     "data": {
      "text/plain": [
       "'0.9.0'"
      ]
     },
     "execution_count": 5,
     "metadata": {},
     "output_type": "execute_result"
    }
   ],
   "source": [
    "from ugrid import UGrid, UGridNetwork1D\n",
    "from ugrid.version import __version__\n",
    "__version__"
   ]
  },
  {
   "cell_type": "markdown",
   "metadata": {},
   "source": [
    "Other imports"
   ]
  },
  {
   "cell_type": "code",
   "execution_count": 6,
   "metadata": {},
   "outputs": [],
   "source": [
    "import numpy as np"
   ]
  },
  {
   "cell_type": "markdown",
   "metadata": {},
   "source": [
    "## Network1d reading"
   ]
  },
  {
   "cell_type": "code",
   "execution_count": 7,
   "metadata": {},
   "outputs": [],
   "source": [
    "with UGrid(\"./data_examples/AllUGridEntities.nc\", \"r\") as ug:\n",
    "    # 1. Count the number of network topologies\n",
    "    num_network_topologies = ug.network1d_get_num_topologies()\n",
    "    # 2. Get the data of the last network in the list\n",
    "    network1d = ug.network1d_get(num_network_topologies - 1)"
   ]
  },
  {
   "cell_type": "markdown",
   "metadata": {},
   "source": [
    "### Print some data"
   ]
  },
  {
   "cell_type": "code",
   "execution_count": 8,
   "metadata": {},
   "outputs": [
    {
     "name": "stdout",
     "output_type": "stream",
     "text": [
      "Network 1D name: network\n",
      "Network 1D num branch geometry nodes: [-1330765608]\n",
      "Network 1D branch nodes: [0 1]\n",
      "Network 1D node x: [293.78 538.89]\n",
      "Network 1D node y: [ 27.48 956.75]\n",
      "Network 1D geometry nodes x: [293.78 278.97 265.31 254.17 247.44 248.3  259.58 282.24 314.61 354.44\n",
      " 398.94 445.   490.6  532.84 566.64 589.08 600.72 603.53 599.27 590.05\n",
      " 577.56 562.97 547.12 530.67 538.89]\n",
      "Network 1D geometry nodes y: [ 27.48  74.87 122.59 170.96 220.12 269.67 317.89 361.93 399.39 428.84\n",
      " 450.76 469.28 488.89 514.78 550.83 594.93 643.09 692.6  742.02 790.79\n",
      " 838.83 886.28 933.33 980.17 956.75]\n",
      "Network 1D node name id: ['nodesids', 'nodesids']\n",
      "Network 1D node name long: ['nodeslongNames', 'nodeslongNames']\n",
      "Network 1D is spherical: False\n"
     ]
    }
   ],
   "source": [
    "print(f\"Network 1D name: {network1d.name}\")\n",
    "print(f\"Network 1D num branch geometry nodes: {network1d.num_edge_geometry_nodes}\")\n",
    "print(f\"Network 1D branch nodes: {network1d.edge_node}\")\n",
    "print(f\"Network 1D node x: {network1d.node_x}\")\n",
    "print(f\"Network 1D node y: {network1d.node_y}\")\n",
    "print(f\"Network 1D geometry nodes x: {network1d.geometry_nodes_x}\")\n",
    "print(f\"Network 1D geometry nodes y: {network1d.geometry_nodes_y}\")\n",
    "print(f\"Network 1D node name id: {network1d.node_id}\")\n",
    "print(f\"Network 1D node name long: {network1d.node_long_name}\")\n",
    "print(f\"Network 1D is spherical: {network1d.is_spherical}\")"
   ]
  },
  {
   "cell_type": "markdown",
   "metadata": {},
   "source": [
    "## Network1d writing"
   ]
  },
  {
   "cell_type": "markdown",
   "metadata": {},
   "source": [
    "### Define Network1d arrays"
   ]
  },
  {
   "cell_type": "code",
   "execution_count": 9,
   "metadata": {},
   "outputs": [],
   "source": [
    "node_x = np.array([293.78, 538.89], dtype=np.double)\n",
    "node_y = np.array([27.48, 956.75], dtype=np.double)\n",
    "branch_node = np.array([0, 1], dtype=np.int32)\n",
    "branch_length = np.array([1165.29], dtype=np.double)\n",
    "branch_order = np.array([0], dtype=np.int32)\n",
    "\n",
    "geometry_nodes_x = np.array(\n",
    "    [\n",
    "        293.78,\n",
    "        278.97,\n",
    "        265.31,\n",
    "        254.17,\n",
    "        247.44,\n",
    "        248.3,\n",
    "        259.58,\n",
    "        282.24,\n",
    "        314.61,\n",
    "        354.44,\n",
    "        398.94,\n",
    "        445,\n",
    "        490.6,\n",
    "        532.84,\n",
    "        566.64,\n",
    "        589.08,\n",
    "        600.72,\n",
    "        603.53,\n",
    "        599.27,\n",
    "        590.05,\n",
    "        577.56,\n",
    "        562.97,\n",
    "        547.12,\n",
    "        530.67,\n",
    "        538.89,\n",
    "    ],\n",
    "    dtype=np.double,\n",
    ")\n",
    "\n",
    "geometry_nodes_y = np.array(\n",
    "    [\n",
    "        27.48,\n",
    "        74.87,\n",
    "        122.59,\n",
    "        170.96,\n",
    "        220.12,\n",
    "        269.67,\n",
    "        317.89,\n",
    "        361.93,\n",
    "        399.39,\n",
    "        428.84,\n",
    "        450.76,\n",
    "        469.28,\n",
    "        488.89,\n",
    "        514.78,\n",
    "        550.83,\n",
    "        594.93,\n",
    "        643.09,\n",
    "        692.6,\n",
    "        742.02,\n",
    "        790.79,\n",
    "        838.83,\n",
    "        886.28,\n",
    "        933.33,\n",
    "        980.17,\n",
    "        956.75,\n",
    "    ],\n",
    "    dtype=np.double,\n",
    ")\n",
    "\n",
    "num_branch_geometry_nodes = np.array([len(geometry_nodes_x)], dtype=np.int32)"
   ]
  },
  {
   "cell_type": "markdown",
   "metadata": {},
   "source": [
    "### Instantiate UGridNetwork1D class"
   ]
  },
  {
   "cell_type": "code",
   "execution_count": 10,
   "metadata": {},
   "outputs": [],
   "source": [
    "network1d = UGridNetwork1D(\n",
    "    name=\"network\",\n",
    "    node_x=node_x,\n",
    "    node_y=node_y,\n",
    "    edge_node=branch_node,\n",
    "    edge_length=branch_length,\n",
    "    edge_order=branch_order,\n",
    "    geometry_nodes_x=geometry_nodes_x,\n",
    "    geometry_nodes_y=geometry_nodes_y,\n",
    "    num_edge_geometry_nodes=num_branch_geometry_nodes,\n",
    ")"
   ]
  },
  {
   "cell_type": "markdown",
   "metadata": {},
   "source": [
    "### Write the UGridNetwork1D instance to file and add crs and conventions"
   ]
  },
  {
   "cell_type": "code",
   "execution_count": 11,
   "metadata": {},
   "outputs": [],
   "source": [
    "with UGrid(\"Network1DWrite.nc\", \"w+\") as ug:\n",
    "    # 1. Define a new network1d\n",
    "    topology_id = ug.network1d_define(network1d)\n",
    "    # 2. Write network1d\n",
    "    ug.network1d_put(topology_id, network1d)\n",
    "    # 3. Add crs to file\n",
    "    attribute_dict = {\n",
    "        \"name\": \"Unknown projected\",\n",
    "        \"epsg\": np.array([0], dtype=int),\n",
    "        \"grid_mapping_name\": \"Unknown projected\",\n",
    "        \"longitude_of_prime_meridian\": np.array([0.0], dtype=float),\n",
    "        \"semi_major_axis\": np.array([6378137.0], dtype=float),\n",
    "        \"semi_minor_axis\": np.array([6356752.314245], dtype=float),\n",
    "        \"inverse_flattening\": np.array([6356752.314245], dtype=float),\n",
    "        \"EPSG_code\": \"EPSG:0\",\n",
    "        \"value\": \"value is equal to EPSG code\"}\n",
    "    ug.variable_int_with_attributes_define(\"projected_coordinate_system\", attribute_dict)\n",
    "    # 4. Add conventions (global attributes)\n",
    "    conventions = {\n",
    "        \"institution\": \"Deltares\",\n",
    "        \"references\": \"Unknown\",\n",
    "        \"source\": \"Unknown Unknown. Model: Unknown\",\n",
    "        \"history\": \"Created on 2017-11-27T18:05:09+0100, Unknown\",\n",
    "        \"Conventions\": \"CF-1.6 UGRID-1.0/Deltares-0.8\"}\n",
    "    ug.attribute_global_define(conventions)"
   ]
  },
  {
   "cell_type": "code",
   "execution_count": null,
   "metadata": {},
   "outputs": [],
   "source": []
  }
 ],
 "metadata": {
  "interpreter": {
   "hash": "f9a40a62ca6aed642a82485872208121632e5b8a3de7333679d67474b0155150"
  },
  "kernelspec": {
   "display_name": "Python 3",
   "language": "python",
   "name": "python3"
  },
  "language_info": {
   "codemirror_mode": {
    "name": "ipython",
    "version": 3
   },
   "file_extension": ".py",
   "mimetype": "text/x-python",
   "name": "python",
   "nbconvert_exporter": "python",
   "pygments_lexer": "ipython3",
   "version": "3.8.6"
  }
 },
 "nbformat": 4,
 "nbformat_minor": 5
}
