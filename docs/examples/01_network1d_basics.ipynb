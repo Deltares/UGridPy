{
 "cells": [
  {
   "cell_type": "markdown",
   "metadata": {},
   "source": [
    "# UGrid network1d basics\n",
    "\n",
    "This is the basic introduction for using the `ugridpy` library.\n",
    "\n",
    "`ugridpy` can be used for reading and writing network1d structures. \n",
    "\n",
    "At the very beginning, the necessary libraries have to be imported."
   ]
  },
  {
   "cell_type": "code",
   "execution_count": 1,
   "metadata": {},
   "outputs": [],
   "source": [
    "from ugrid import UGrid, UGridContacts"
   ]
  },
  {
   "cell_type": "markdown",
   "metadata": {},
   "source": [
    "## Network1d reading example"
   ]
  },
  {
   "cell_type": "code",
   "execution_count": 2,
   "metadata": {},
   "outputs": [],
   "source": [
    "with UGrid(\"./data_examples/AllUGridEntities.nc\", \"r\") as ug:\n",
    "    # 1. Count the number of network topologies\n",
    "    num_network_topologies = ug.network1d_get_num_topologies()\n",
    "    # 2. Get the network1d data\n",
    "    network1d = ug.network1d_get(num_network_topologies - 1)"
   ]
  }
 ],
 "metadata": {
  "interpreter": {
   "hash": "f9a40a62ca6aed642a82485872208121632e5b8a3de7333679d67474b0155150"
  },
  "kernelspec": {
   "display_name": "Python 3",
   "language": "python",
   "name": "python3"
  },
  "language_info": {
   "codemirror_mode": {
    "name": "ipython",
    "version": 3
   },
   "file_extension": ".py",
   "mimetype": "text/x-python",
   "name": "python",
   "nbconvert_exporter": "python",
   "pygments_lexer": "ipython3",
   "version": "3.8.6"
  }
 },
 "nbformat": 4,
 "nbformat_minor": 5
}
